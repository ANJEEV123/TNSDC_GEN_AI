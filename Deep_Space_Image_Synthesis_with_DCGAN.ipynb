{
  "metadata": {
    "kernelspec": {
      "display_name": "Python 3",
      "name": "python3"
    },
    "language_info": {
      "name": "python",
      "version": "3.10.13",
      "mimetype": "text/x-python",
      "codemirror_mode": {
        "name": "ipython",
        "version": 3
      },
      "pygments_lexer": "ipython3",
      "nbconvert_exporter": "python",
      "file_extension": ".py"
    },
    "kaggle": {
      "accelerator": "gpu",
      "dataSources": [
        {
          "sourceId": 7623030,
          "sourceType": "datasetVersion",
          "datasetId": 4440526
        }
      ],
      "dockerImageVersionId": 30646,
      "isInternetEnabled": false,
      "language": "python",
      "sourceType": "notebook",
      "isGpuEnabled": true
    },
    "colab": {
      "name": "Deep Space Image Synthesis with DCGAN",
      "provenance": [],
      "gpuType": "T4",
      "include_colab_link": true
    },
    "accelerator": "GPU"
  },
  "nbformat_minor": 0,
  "nbformat": 4,
  "cells": [
    {
      "cell_type": "markdown",
      "metadata": {
        "id": "view-in-github",
        "colab_type": "text"
      },
      "source": [
        "<a href=\"https://colab.research.google.com/github/ANJEEV123/TNSDC_GEN_AI/blob/main/Deep_Space_Image_Synthesis_with_DCGAN.ipynb\" target=\"_parent\"><img src=\"https://colab.research.google.com/assets/colab-badge.svg\" alt=\"Open In Colab\"/></a>"
      ]
    },
    {
      "source": [
        "\n",
        "# IMPORTANT: RUN THIS CELL IN ORDER TO IMPORT YOUR KAGGLE DATA SOURCES\n",
        "# TO THE CORRECT LOCATION (/kaggle/input) IN YOUR NOTEBOOK,\n",
        "# THEN FEEL FREE TO DELETE THIS CELL.\n",
        "# NOTE: THIS NOTEBOOK ENVIRONMENT DIFFERS FROM KAGGLE'S PYTHON\n",
        "# ENVIRONMENT SO THERE MAY BE MISSING LIBRARIES USED BY YOUR\n",
        "# NOTEBOOK.\n",
        "\n",
        "import os\n",
        "import sys\n",
        "from tempfile import NamedTemporaryFile\n",
        "from urllib.request import urlopen\n",
        "from urllib.parse import unquote, urlparse\n",
        "from urllib.error import HTTPError\n",
        "from zipfile import ZipFile\n",
        "import tarfile\n",
        "import shutil\n",
        "\n",
        "CHUNK_SIZE = 40960\n",
        "DATA_SOURCE_MAPPING = 'astrophotography-collection:https%3A%2F%2Fstorage.googleapis.com%2Fkaggle-data-sets%2F4440526%2F7623030%2Fbundle%2Farchive.zip%3FX-Goog-Algorithm%3DGOOG4-RSA-SHA256%26X-Goog-Credential%3Dgcp-kaggle-com%2540kaggle-161607.iam.gserviceaccount.com%252F20240331%252Fauto%252Fstorage%252Fgoog4_request%26X-Goog-Date%3D20240331T105750Z%26X-Goog-Expires%3D259200%26X-Goog-SignedHeaders%3Dhost%26X-Goog-Signature%3D7613b863dfdd73291e237877e9b27e01ccecd87bf788bdd0ec93aa1a5a31c5f22352f20c0dc73fd7a15208e9166451a8997d96c36f5a5e3547d30a40cc6b84c6e08997a787e933ca8430abc3addd8497a2d8ec7e9041aa863d87132c0d9fa4d228aa52522532dc70ba35e3641c497116a43117565237feda0ad31ddfb2f144d62da842fc278db19503956b54a367721f13af8e54b2b201cf2b1c66aa93b3f1c963acfee88a9b2bc9f43f19d4accdfacf0ad18336c817a73dbf2ea52d7d0d00b8a88f13ef63fcfe82ac51053e611e69297d8f2ab46331f470e541f928b328bc727ff52f6eec769500141d0d3490842c03af95a40aba33e9e6a6d4f2746b27b6a6'\n",
        "\n",
        "KAGGLE_INPUT_PATH='/kaggle/input'\n",
        "KAGGLE_WORKING_PATH='/kaggle/working'\n",
        "KAGGLE_SYMLINK='kaggle'\n",
        "\n",
        "!umount /kaggle/input/ 2> /dev/null\n",
        "shutil.rmtree('/kaggle/input', ignore_errors=True)\n",
        "os.makedirs(KAGGLE_INPUT_PATH, 0o777, exist_ok=True)\n",
        "os.makedirs(KAGGLE_WORKING_PATH, 0o777, exist_ok=True)\n",
        "\n",
        "try:\n",
        "  os.symlink(KAGGLE_INPUT_PATH, os.path.join(\"..\", 'input'), target_is_directory=True)\n",
        "except FileExistsError:\n",
        "  pass\n",
        "try:\n",
        "  os.symlink(KAGGLE_WORKING_PATH, os.path.join(\"..\", 'working'), target_is_directory=True)\n",
        "except FileExistsError:\n",
        "  pass\n",
        "\n",
        "for data_source_mapping in DATA_SOURCE_MAPPING.split(','):\n",
        "    directory, download_url_encoded = data_source_mapping.split(':')\n",
        "    download_url = unquote(download_url_encoded)\n",
        "    filename = urlparse(download_url).path\n",
        "    destination_path = os.path.join(KAGGLE_INPUT_PATH, directory)\n",
        "    try:\n",
        "        with urlopen(download_url) as fileres, NamedTemporaryFile() as tfile:\n",
        "            total_length = fileres.headers['content-length']\n",
        "            print(f'Downloading {directory}, {total_length} bytes compressed')\n",
        "            dl = 0\n",
        "            data = fileres.read(CHUNK_SIZE)\n",
        "            while len(data) > 0:\n",
        "                dl += len(data)\n",
        "                tfile.write(data)\n",
        "                done = int(50 * dl / int(total_length))\n",
        "                sys.stdout.write(f\"\\r[{'=' * done}{' ' * (50-done)}] {dl} bytes downloaded\")\n",
        "                sys.stdout.flush()\n",
        "                data = fileres.read(CHUNK_SIZE)\n",
        "            if filename.endswith('.zip'):\n",
        "              with ZipFile(tfile) as zfile:\n",
        "                zfile.extractall(destination_path)\n",
        "            else:\n",
        "              with tarfile.open(tfile.name) as tarfile:\n",
        "                tarfile.extractall(destination_path)\n",
        "            print(f'\\nDownloaded and uncompressed: {directory}')\n",
        "    except HTTPError as e:\n",
        "        print(f'Failed to load (likely expired) {download_url} to path {destination_path}')\n",
        "        continue\n",
        "    except OSError as e:\n",
        "        print(f'Failed to load {download_url} to path {destination_path}')\n",
        "        continue\n",
        "\n",
        "print('Data source import complete.')\n"
      ],
      "metadata": {
        "id": "wNdOVJTbX7Te"
      },
      "cell_type": "code",
      "outputs": [],
      "execution_count": null
    },
    {
      "cell_type": "markdown",
      "source": [
        "# Libraries"
      ],
      "metadata": {
        "id": "Se5PCciLX7Tf"
      }
    },
    {
      "cell_type": "code",
      "source": [
        "import os\n",
        "import random\n",
        "\n",
        "import torch\n",
        "import torch.nn as nn\n",
        "import torch.nn.parallel\n",
        "import torch.backends.cudnn as cudnn\n",
        "import torch.optim as optim\n",
        "import torch.utils.data\n",
        "import torchvision.datasets as dset\n",
        "import torchvision.transforms as transforms\n",
        "import torchvision.utils as vutils\n",
        "import numpy as np\n",
        "import matplotlib.pyplot as plt\n",
        "import matplotlib.animation as animation\n",
        "from IPython.display import HTML\n",
        "from PIL import Image\n",
        "\n",
        "\n",
        "%matplotlib inline\n",
        "\n",
        "# Set random seed for reproducibility\n",
        "manualSeed = 42\n",
        "#manualSeed = random.randint(1, 10000) # use if you want new results\n",
        "print(\"Random Seed: \", manualSeed)\n",
        "\n",
        "random.seed(manualSeed)\n",
        "torch.manual_seed(manualSeed)"
      ],
      "metadata": {
        "execution": {
          "iopub.status.busy": "2024-02-14T12:44:47.066018Z",
          "iopub.execute_input": "2024-02-14T12:44:47.066805Z",
          "iopub.status.idle": "2024-02-14T12:44:47.080931Z",
          "shell.execute_reply.started": "2024-02-14T12:44:47.066771Z",
          "shell.execute_reply": "2024-02-14T12:44:47.079936Z"
        },
        "trusted": true,
        "id": "Pjy_2N3xX7Tg"
      },
      "execution_count": null,
      "outputs": []
    },
    {
      "cell_type": "markdown",
      "source": [
        "# Data Preparation"
      ],
      "metadata": {
        "id": "uPvTuHwiX7Th"
      }
    },
    {
      "cell_type": "code",
      "source": [
        "# Root directory for dataset\n",
        "dataroot = \"/kaggle/input/astrophotography-collection/\""
      ],
      "metadata": {
        "execution": {
          "iopub.status.busy": "2024-02-14T12:44:47.082374Z",
          "iopub.execute_input": "2024-02-14T12:44:47.082635Z",
          "iopub.status.idle": "2024-02-14T12:44:47.091085Z",
          "shell.execute_reply.started": "2024-02-14T12:44:47.082613Z",
          "shell.execute_reply": "2024-02-14T12:44:47.090324Z"
        },
        "trusted": true,
        "id": "7RgIh2p2X7Th"
      },
      "execution_count": null,
      "outputs": []
    },
    {
      "cell_type": "code",
      "source": [
        "# Open the image file\n",
        "image_path = \"/kaggle/input/astrophotography-collection/dataset/-IUfboBheWxT_1000x380_A980idJC.jpg\"\n",
        "image = Image.open(image_path)\n",
        "\n",
        "# Get the size dimensions\n",
        "width, height = image.size\n",
        "print(\"Image dimensions (width x height):\", width, \"x\", height)"
      ],
      "metadata": {
        "execution": {
          "iopub.status.busy": "2024-02-14T12:44:47.107954Z",
          "iopub.execute_input": "2024-02-14T12:44:47.108239Z",
          "iopub.status.idle": "2024-02-14T12:44:47.120788Z",
          "shell.execute_reply.started": "2024-02-14T12:44:47.108214Z",
          "shell.execute_reply": "2024-02-14T12:44:47.119814Z"
        },
        "trusted": true,
        "id": "TVMfio2sX7Th"
      },
      "execution_count": null,
      "outputs": []
    },
    {
      "cell_type": "markdown",
      "source": [
        "# Config"
      ],
      "metadata": {
        "id": "PKgufKS1X7Th"
      }
    },
    {
      "cell_type": "code",
      "source": [
        "# Number of workers for dataloader\n",
        "workers = 2\n",
        "\n",
        "# Batch size during training\n",
        "batch_size = 64\n",
        "\n",
        "# Spatial size of training images. All images will be resized to this\n",
        "#   size using a transformer.\n",
        "image_size = 64\n",
        "\n",
        "# Number of channels in the training images. For color images this is 3\n",
        "nc = 3\n",
        "\n",
        "# Size of z latent vector (i.e. size of generator input)\n",
        "nz = 5\n",
        "\n",
        "# Size of feature maps in generator, Original=128\n",
        "ngf = 128\n",
        "\n",
        "# Size of feature maps in discriminator, Original=128\n",
        "ndf = 128\n",
        "\n",
        "# Number of training epochs\n",
        "num_epochs = 1000\n",
        "\n",
        "# Learning rate for optimizers\n",
        "lr = 0.0004\n",
        "\n",
        "# Beta1 hyperparam for Adam optimizers\n",
        "beta1 = 0.5\n",
        "\n",
        "# Number of GPUs available. Use 0 for CPU mode.\n",
        "ngpu = 1"
      ],
      "metadata": {
        "execution": {
          "iopub.status.busy": "2024-02-14T12:44:47.122378Z",
          "iopub.execute_input": "2024-02-14T12:44:47.123017Z",
          "iopub.status.idle": "2024-02-14T12:44:47.12901Z",
          "shell.execute_reply.started": "2024-02-14T12:44:47.122982Z",
          "shell.execute_reply": "2024-02-14T12:44:47.128102Z"
        },
        "trusted": true,
        "id": "OrmSZgssX7Ti"
      },
      "execution_count": null,
      "outputs": []
    },
    {
      "cell_type": "markdown",
      "source": [
        "# Dataset and DataLoader"
      ],
      "metadata": {
        "id": "qChx-XtpX7Ti"
      }
    },
    {
      "cell_type": "code",
      "source": [
        "# We can use an image folder dataset the way we have it setup.\n",
        "# Create the dataset\n",
        "dataset = dset.ImageFolder(root=dataroot,\n",
        "                           transform=transforms.Compose([\n",
        "                               transforms.Resize(image_size),\n",
        "                               transforms.CenterCrop(image_size),\n",
        "                               transforms.ToTensor(),\n",
        "                               transforms.Normalize((0.5, 0.5, 0.5), (0.5, 0.5, 0.5)),\n",
        "                           ]))\n",
        "# Create the dataloader\n",
        "dataloader = torch.utils.data.DataLoader(dataset, batch_size=batch_size,\n",
        "                                         shuffle=True, num_workers=workers)\n",
        "\n",
        "# Decide which device we want to run on\n",
        "device = torch.device(\"cuda:0\" if (torch.cuda.is_available() and ngpu > 0) else \"cpu\")\n",
        "\n",
        "# Plot some training images\n",
        "real_batch = next(iter(dataloader))\n",
        "plt.figure(figsize=(8,8))\n",
        "plt.axis(\"off\")\n",
        "plt.title(\"Training Images\")\n",
        "plt.imshow(np.transpose(vutils.make_grid(real_batch[0].to(device)[:64], padding=2, normalize=True).cpu(),(1,2,0)))"
      ],
      "metadata": {
        "execution": {
          "iopub.status.busy": "2024-02-14T12:44:47.130813Z",
          "iopub.execute_input": "2024-02-14T12:44:47.131317Z",
          "iopub.status.idle": "2024-02-14T12:44:49.189448Z",
          "shell.execute_reply.started": "2024-02-14T12:44:47.13129Z",
          "shell.execute_reply": "2024-02-14T12:44:49.188328Z"
        },
        "trusted": true,
        "id": "Q9gUVAkdX7Ti"
      },
      "execution_count": null,
      "outputs": []
    },
    {
      "cell_type": "markdown",
      "source": [
        "# Build the Model: DCGAN\n",
        "## Initialize the Weights"
      ],
      "metadata": {
        "id": "YD1sZhR1X7Ti"
      }
    },
    {
      "cell_type": "code",
      "source": [
        "# custom weights initialization called on netG and netD\n",
        "def weights_init(m):\n",
        "    classname = m.__class__.__name__\n",
        "    if classname.find('Conv') != -1:\n",
        "        nn.init.normal_(m.weight.data, 0.0, 0.02)\n",
        "    elif classname.find('BatchNorm') != -1:\n",
        "        nn.init.normal_(m.weight.data, 1.0, 0.02)\n",
        "        nn.init.constant_(m.bias.data, 0)"
      ],
      "metadata": {
        "execution": {
          "iopub.status.busy": "2024-02-14T12:46:51.541297Z",
          "iopub.execute_input": "2024-02-14T12:46:51.542082Z",
          "iopub.status.idle": "2024-02-14T12:46:51.548419Z",
          "shell.execute_reply.started": "2024-02-14T12:46:51.542042Z",
          "shell.execute_reply": "2024-02-14T12:46:51.547443Z"
        },
        "trusted": true,
        "id": "EdRV48hrX7Ti"
      },
      "execution_count": null,
      "outputs": []
    },
    {
      "cell_type": "markdown",
      "source": [
        "## Build the Generator"
      ],
      "metadata": {
        "id": "hlCUJTFZX7Tj"
      }
    },
    {
      "cell_type": "code",
      "source": [
        "class Generator(nn.Module):\n",
        "    def __init__(self, ngpu):\n",
        "        super(Generator, self).__init__()\n",
        "        self.ngpu = ngpu\n",
        "        self.main = nn.Sequential(\n",
        "            # input is Z, going into a convolution\n",
        "            nn.ConvTranspose2d( nz, ngf * 8, 4, 1, 0, bias=False),\n",
        "            nn.BatchNorm2d(ngf * 8),\n",
        "            nn.ReLU(True),\n",
        "            # state size. (ngf*8) x 4 x 4\n",
        "            nn.ConvTranspose2d(ngf * 8, ngf * 4, 4, 2, 1, bias=False),\n",
        "            nn.BatchNorm2d(ngf * 4),\n",
        "            nn.ReLU(True),\n",
        "            # state size. (ngf*4) x 8 x 8\n",
        "            nn.ConvTranspose2d( ngf * 4, ngf * 2, 4, 2, 1, bias=False),\n",
        "            nn.BatchNorm2d(ngf * 2),\n",
        "            nn.ReLU(True),\n",
        "            # state size. (ngf*2) x 16 x 16\n",
        "            nn.ConvTranspose2d( ngf * 2, ngf, 4, 2, 1, bias=False),\n",
        "            nn.BatchNorm2d(ngf),\n",
        "            nn.ReLU(True),\n",
        "            # state size. (ngf) x 32 x 32\n",
        "            nn.ConvTranspose2d( ngf, nc, 4, 2, 1, bias=False),\n",
        "            nn.Tanh()\n",
        "            # state size. (nc) x 64 x 64\n",
        "        )\n",
        "\n",
        "    def forward(self, input):\n",
        "        return self.main(input)"
      ],
      "metadata": {
        "execution": {
          "iopub.status.busy": "2024-02-14T12:46:52.871151Z",
          "iopub.execute_input": "2024-02-14T12:46:52.871856Z",
          "iopub.status.idle": "2024-02-14T12:46:52.881225Z",
          "shell.execute_reply.started": "2024-02-14T12:46:52.871825Z",
          "shell.execute_reply": "2024-02-14T12:46:52.880191Z"
        },
        "trusted": true,
        "id": "-h2N3Ns5X7Tj"
      },
      "execution_count": null,
      "outputs": []
    },
    {
      "cell_type": "code",
      "source": [
        "# Create the generator\n",
        "netG = Generator(ngpu).to(device)\n",
        "\n",
        "# Handle multi-gpu if desired\n",
        "if (device.type == 'cuda') and (ngpu > 1):\n",
        "    netG = nn.DataParallel(netG, list(range(ngpu)))\n",
        "\n",
        "# Apply the weights_init function to randomly initialize all weights\n",
        "#  to mean=0, stdev=0.02.\n",
        "netG.apply(weights_init)\n",
        "\n",
        "# Print the model\n",
        "print(netG)"
      ],
      "metadata": {
        "execution": {
          "iopub.status.busy": "2024-02-14T12:46:53.622958Z",
          "iopub.execute_input": "2024-02-14T12:46:53.623684Z",
          "iopub.status.idle": "2024-02-14T12:46:53.733409Z",
          "shell.execute_reply.started": "2024-02-14T12:46:53.623649Z",
          "shell.execute_reply": "2024-02-14T12:46:53.732463Z"
        },
        "trusted": true,
        "id": "_CeZ_7SlX7Tj"
      },
      "execution_count": null,
      "outputs": []
    },
    {
      "cell_type": "markdown",
      "source": [
        "## Build the Discriminator"
      ],
      "metadata": {
        "id": "6qR0xZv3X7Tj"
      }
    },
    {
      "cell_type": "code",
      "source": [
        "class Discriminator(nn.Module):\n",
        "    def __init__(self, ngpu):\n",
        "        super(Discriminator, self).__init__()\n",
        "        self.ngpu = ngpu\n",
        "        self.main = nn.Sequential(\n",
        "            # input is (nc) x 64 x 64\n",
        "            nn.Conv2d(nc, ndf, 4, 2, 1, bias=False),\n",
        "            nn.LeakyReLU(0.2, inplace=True),\n",
        "            # state size. (ndf) x 32 x 32\n",
        "            nn.Conv2d(ndf, ndf * 2, 4, 2, 1, bias=False),\n",
        "            nn.BatchNorm2d(ndf * 2),\n",
        "            nn.LeakyReLU(0.2, inplace=True),\n",
        "            # state size. (ndf*2) x 16 x 16\n",
        "            nn.Conv2d(ndf * 2, ndf * 4, 4, 2, 1, bias=False),\n",
        "            nn.BatchNorm2d(ndf * 4),\n",
        "            nn.LeakyReLU(0.2, inplace=True),\n",
        "            # state size. (ndf*4) x 8 x 8\n",
        "            nn.Conv2d(ndf * 4, ndf * 8, 4, 2, 1, bias=False),\n",
        "            nn.BatchNorm2d(ndf * 8),\n",
        "            nn.LeakyReLU(0.2, inplace=True),\n",
        "\n",
        "            # state size. (ndf*8) x 4 x 4\n",
        "            nn.Conv2d(ndf * 8, 1, 4, 1, 0, bias=False),\n",
        "            nn.Sigmoid()\n",
        "        )\n",
        "\n",
        "    def forward(self, input):\n",
        "        return self.main(input)"
      ],
      "metadata": {
        "execution": {
          "iopub.status.busy": "2024-02-14T12:46:54.763623Z",
          "iopub.execute_input": "2024-02-14T12:46:54.764369Z",
          "iopub.status.idle": "2024-02-14T12:46:54.772922Z",
          "shell.execute_reply.started": "2024-02-14T12:46:54.764336Z",
          "shell.execute_reply": "2024-02-14T12:46:54.771893Z"
        },
        "trusted": true,
        "id": "oJIEKJZbX7Tj"
      },
      "execution_count": null,
      "outputs": []
    },
    {
      "cell_type": "code",
      "source": [
        "# Create the Discriminator\n",
        "netD = Discriminator(ngpu).to(device)\n",
        "\n",
        "# Handle multi-gpu if desired\n",
        "if (device.type == 'cuda') and (ngpu > 1):\n",
        "    netD = nn.DataParallel(netD, list(range(ngpu)))\n",
        "\n",
        "# Apply the weights_init function to randomly initialize all weights\n",
        "#  to mean=0, stdev=0.2.\n",
        "netD.apply(weights_init)\n",
        "\n",
        "# Print the model\n",
        "print(netD)"
      ],
      "metadata": {
        "execution": {
          "iopub.status.busy": "2024-02-14T12:46:55.225528Z",
          "iopub.execute_input": "2024-02-14T12:46:55.226299Z",
          "iopub.status.idle": "2024-02-14T12:46:55.35469Z",
          "shell.execute_reply.started": "2024-02-14T12:46:55.226265Z",
          "shell.execute_reply": "2024-02-14T12:46:55.353712Z"
        },
        "trusted": true,
        "id": "Q0QQ1VBdX7Tj"
      },
      "execution_count": null,
      "outputs": []
    },
    {
      "cell_type": "markdown",
      "source": [
        "## Required Statements"
      ],
      "metadata": {
        "id": "LN9KPa9OX7Tj"
      }
    },
    {
      "cell_type": "code",
      "source": [
        "# Initialize BCELoss function\n",
        "criterion = nn.BCELoss()\n",
        "\n",
        "# Create batch of latent vectors that we will use to visualize\n",
        "#  the progression of the generator\n",
        "fixed_noise = torch.randn(128, nz, 1, 1, device=device)\n",
        "\n",
        "# Establish convention for real and fake labels during training\n",
        "real_label = 1.\n",
        "fake_label = 0.\n",
        "\n",
        "# Setup Adam optimizers for both G and D\n",
        "optimizerD = optim.Adam(netD.parameters(), lr=lr, betas=(beta1, 0.999))\n",
        "optimizerG = optim.Adam(netG.parameters(), lr=lr, betas=(beta1, 0.999))"
      ],
      "metadata": {
        "execution": {
          "iopub.status.busy": "2024-02-14T12:46:56.052825Z",
          "iopub.execute_input": "2024-02-14T12:46:56.053527Z",
          "iopub.status.idle": "2024-02-14T12:46:56.061501Z",
          "shell.execute_reply.started": "2024-02-14T12:46:56.053494Z",
          "shell.execute_reply": "2024-02-14T12:46:56.060483Z"
        },
        "trusted": true,
        "id": "MzAjNIyRX7Tj"
      },
      "execution_count": null,
      "outputs": []
    },
    {
      "cell_type": "markdown",
      "source": [
        "# Model Training"
      ],
      "metadata": {
        "id": "-xFBKPs9X7Tj"
      }
    },
    {
      "cell_type": "code",
      "source": [
        "# Training Loop\n",
        "\n",
        "# Lists to keep track of progress\n",
        "img_list = []\n",
        "G_losses = []\n",
        "D_losses = []\n",
        "iters = 0\n",
        "\n",
        "print(\"Starting Training Loop...\")\n",
        "# For each epoch\n",
        "for epoch in range(num_epochs):\n",
        "    # For each batch in the dataloader\n",
        "    for i, data in enumerate(dataloader, 0):\n",
        "\n",
        "        ############################\n",
        "        # (1) Update D network: maximize log(D(x)) + log(1 - D(G(z)))\n",
        "        ###########################\n",
        "        ## Train with all-real batch\n",
        "        netD.zero_grad()\n",
        "        # Format batch\n",
        "        real_cpu = data[0].to(device)\n",
        "        b_size = real_cpu.size(0)\n",
        "        # Forward pass real batch through D\n",
        "        output = netD(real_cpu).view(-1)\n",
        "        label = torch.full((output.size(0),), real_label, dtype=torch.float, device=device)\n",
        "        # Calculate loss on all-real batch\n",
        "        errD_real = criterion(output, label)\n",
        "        # Calculate gradients for D in backward pass\n",
        "        errD_real.backward()\n",
        "        D_x = output.mean().item()\n",
        "\n",
        "        ## Train with all-fake batch\n",
        "        # Generate batch of latent vectors\n",
        "        noise = torch.randn(output.size(0), nz, 1, 1, device=device)\n",
        "        # Generate fake image batch with G\n",
        "        fake = netG(noise)\n",
        "        label.fill_(fake_label)\n",
        "        # Classify all fake batch with D\n",
        "        output = netD(fake.detach()).view(-1)\n",
        "        # Calculate D's loss on the all-fake batch\n",
        "        errD_fake = criterion(output, label)\n",
        "        # Calculate the gradients for this batch, accumulated (summed) with previous gradients\n",
        "        errD_fake.backward()\n",
        "        D_G_z1 = output.mean().item()\n",
        "        # Compute error of D as sum over the fake and the real batches\n",
        "        errD = errD_real + errD_fake\n",
        "        # Update D\n",
        "        optimizerD.step()\n",
        "\n",
        "        ############################\n",
        "        # (2) Update G network: maximize log(D(G(z)))\n",
        "        ###########################\n",
        "        netG.zero_grad()\n",
        "        label.fill_(real_label)  # fake labels are real for generator cost\n",
        "        # Since we just updated D, perform another forward pass of all-fake batch through D\n",
        "        output = netD(fake).view(-1)\n",
        "        # Calculate G's loss based on this output\n",
        "        errG = criterion(output, label)\n",
        "        # Calculate gradients for G\n",
        "        errG.backward()\n",
        "        D_G_z2 = output.mean().item()\n",
        "        # Update G\n",
        "        optimizerG.step()\n",
        "\n",
        "        # Output training stats\n",
        "        if i % 50 == 0:\n",
        "            print('[%d/%d][%d/%d]\\tLoss_D: %.4f\\tLoss_G: %.4f\\tD(x): %.4f\\tD(G(z)): %.4f / %.4f'\n",
        "                  % (epoch+1, num_epochs, i, len(dataloader),\n",
        "                     errD.item(), errG.item(), D_x, D_G_z1, D_G_z2))\n",
        "\n",
        "        # Save Losses for plotting later\n",
        "        G_losses.append(errG.item())\n",
        "        D_losses.append(errD.item())\n",
        "\n",
        "        # Check how the generator is doing by saving G's output on fixed_noise\n",
        "        if (iters % 100 == 0) or ((epoch == num_epochs-1) and (i == len(dataloader)-1)):\n",
        "            with torch.no_grad():\n",
        "                fake = netG(fixed_noise).detach().cpu()\n",
        "            img_list.append(vutils.make_grid(fake, padding=2, normalize=True))\n",
        "\n",
        "        iters += 1"
      ],
      "metadata": {
        "execution": {
          "iopub.status.busy": "2024-02-14T12:47:01.48411Z",
          "iopub.execute_input": "2024-02-14T12:47:01.484527Z",
          "iopub.status.idle": "2024-02-14T12:59:15.259303Z",
          "shell.execute_reply.started": "2024-02-14T12:47:01.484495Z",
          "shell.execute_reply": "2024-02-14T12:59:15.258178Z"
        },
        "_kg_hide-output": true,
        "trusted": true,
        "id": "ZVlVhXi4X7Tj"
      },
      "execution_count": null,
      "outputs": []
    },
    {
      "cell_type": "markdown",
      "source": [
        "# Model Evaluation"
      ],
      "metadata": {
        "id": "QVFUOzOWX7Tj"
      }
    },
    {
      "cell_type": "code",
      "source": [
        "plt.figure(figsize=(10,5))\n",
        "plt.title(\"Generator and Discriminator Loss During Training\")\n",
        "plt.plot(G_losses,label=\"G\")\n",
        "plt.plot(D_losses,label=\"D\")\n",
        "plt.xlabel(\"iterations\")\n",
        "plt.ylabel(\"Loss\")\n",
        "plt.legend()\n",
        "plt.show()"
      ],
      "metadata": {
        "execution": {
          "iopub.status.busy": "2024-02-14T13:03:48.170909Z",
          "iopub.execute_input": "2024-02-14T13:03:48.17185Z",
          "iopub.status.idle": "2024-02-14T13:03:48.442969Z",
          "shell.execute_reply.started": "2024-02-14T13:03:48.171813Z",
          "shell.execute_reply": "2024-02-14T13:03:48.442048Z"
        },
        "trusted": true,
        "id": "eVdHtuQJX7Tj"
      },
      "execution_count": null,
      "outputs": []
    },
    {
      "cell_type": "code",
      "source": [
        "fig = plt.figure(figsize=(8,8))\n",
        "plt.axis(\"off\")\n",
        "ims = [[plt.imshow(np.transpose(i,(1,2,0)), animated=True)] for i in img_list]\n",
        "ani = animation.ArtistAnimation(fig, ims, interval=200, repeat_delay=1000, blit=True)\n",
        "\n",
        "HTML(ani.to_jshtml())"
      ],
      "metadata": {
        "execution": {
          "iopub.status.busy": "2024-02-14T13:06:35.706907Z",
          "iopub.execute_input": "2024-02-14T13:06:35.707777Z",
          "iopub.status.idle": "2024-02-14T13:06:40.854664Z",
          "shell.execute_reply.started": "2024-02-14T13:06:35.707728Z",
          "shell.execute_reply": "2024-02-14T13:06:40.853681Z"
        },
        "trusted": true,
        "id": "ojn3cM0dX7Tk"
      },
      "execution_count": null,
      "outputs": []
    },
    {
      "cell_type": "code",
      "source": [
        "# Grab a batch of real images from the dataloader\n",
        "real_batch = next(iter(dataloader))\n",
        "\n",
        "# Plot the real images\n",
        "plt.figure(figsize=(15,15))\n",
        "plt.subplot(1,2,1)\n",
        "plt.axis(\"off\")\n",
        "plt.title(\"Real Images\")\n",
        "plt.imshow(np.transpose(vutils.make_grid(real_batch[0].to(device)[:64], padding=5, normalize=True).cpu(),(1,2,0)))\n",
        "\n",
        "# Plot the fake images from the last epoch\n",
        "plt.subplot(1,2,2)\n",
        "plt.axis(\"off\")\n",
        "plt.title(\"Fake Images\")\n",
        "plt.imshow(np.transpose(img_list[-1],(1,2,0)))\n",
        "plt.show()"
      ],
      "metadata": {
        "execution": {
          "iopub.status.busy": "2024-02-14T13:04:41.141316Z",
          "iopub.execute_input": "2024-02-14T13:04:41.142207Z",
          "iopub.status.idle": "2024-02-14T13:04:43.539425Z",
          "shell.execute_reply.started": "2024-02-14T13:04:41.142171Z",
          "shell.execute_reply": "2024-02-14T13:04:43.538287Z"
        },
        "trusted": true,
        "id": "Sf3UTzy8X7Tk"
      },
      "execution_count": null,
      "outputs": []
    },
    {
      "cell_type": "markdown",
      "source": [
        "# Visualize Individually"
      ],
      "metadata": {
        "id": "5f8k2b8dX7Tk"
      }
    },
    {
      "cell_type": "code",
      "source": [
        "plt.imshow(np.transpose(img_list[-1],(1,2,0))[64*4+7:64*5+5, :64, :])\n"
      ],
      "metadata": {
        "execution": {
          "iopub.status.busy": "2024-02-14T13:04:59.127449Z",
          "iopub.execute_input": "2024-02-14T13:04:59.128111Z",
          "iopub.status.idle": "2024-02-14T13:04:59.324543Z",
          "shell.execute_reply.started": "2024-02-14T13:04:59.128074Z",
          "shell.execute_reply": "2024-02-14T13:04:59.323631Z"
        },
        "trusted": true,
        "id": "HPdpIy_rX7Tk"
      },
      "execution_count": null,
      "outputs": []
    },
    {
      "cell_type": "code",
      "source": [
        "plt.imshow(np.transpose(img_list[-1],(1,2,0))[64*1+7:64*2+5, 64*3+11:64*4+10, :])"
      ],
      "metadata": {
        "execution": {
          "iopub.status.busy": "2024-02-14T13:05:02.205793Z",
          "iopub.execute_input": "2024-02-14T13:05:02.206503Z",
          "iopub.status.idle": "2024-02-14T13:05:02.406894Z",
          "shell.execute_reply.started": "2024-02-14T13:05:02.206465Z",
          "shell.execute_reply": "2024-02-14T13:05:02.406126Z"
        },
        "trusted": true,
        "id": "4kwgPwFRX7Tk"
      },
      "execution_count": null,
      "outputs": []
    },
    {
      "cell_type": "code",
      "source": [
        "plt.imshow(np.transpose(img_list[-1],(1,2,0))[64*7+15:64*8+8, 64*7+15:64*8+10, :])"
      ],
      "metadata": {
        "execution": {
          "iopub.status.busy": "2024-02-14T13:05:04.683764Z",
          "iopub.execute_input": "2024-02-14T13:05:04.68446Z",
          "iopub.status.idle": "2024-02-14T13:05:04.868627Z",
          "shell.execute_reply.started": "2024-02-14T13:05:04.684425Z",
          "shell.execute_reply": "2024-02-14T13:05:04.867725Z"
        },
        "trusted": true,
        "id": "Cnd1dMU_X7Tk"
      },
      "execution_count": null,
      "outputs": []
    },
    {
      "cell_type": "markdown",
      "source": [
        "# References\n",
        "\n",
        "1. https://pytorch.org/tutorials/beginner/dcgan_faces_tutorial.html"
      ],
      "metadata": {
        "id": "SruuDOm5X7Tk"
      }
    }
  ]
}